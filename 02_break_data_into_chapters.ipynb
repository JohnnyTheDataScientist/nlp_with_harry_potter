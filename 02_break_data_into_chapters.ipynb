{
 "cells": [
  {
   "cell_type": "code",
   "execution_count": 5,
   "metadata": {},
   "outputs": [],
   "source": [
    "with open('harry_potter_ebook_1-7_document_outline_removed.txt', 'r', encoding=\"utf8\") as f:\n",
    "    lines = f.readlines()"
   ]
  },
  {
   "cell_type": "code",
   "execution_count": 6,
   "metadata": {},
   "outputs": [],
   "source": [
    "with open('harry_potter_chapter_names.txt', 'r', encoding=\"utf8\") as f:\n",
    "    chapters = f.readlines()"
   ]
  },
  {
   "cell_type": "markdown",
   "metadata": {},
   "source": [
    "## find out the start and end line indices for each chapter "
   ]
  },
  {
   "cell_type": "code",
   "execution_count": 7,
   "metadata": {},
   "outputs": [],
   "source": [
    "chapter_start_line = []\n",
    "chapter_end_line = []\n",
    "iteration_index = 0\n",
    "\n",
    "for i in chapters:\n",
    "    chapter_name = i[5:]\n",
    "    for idx, j in enumerate(lines[iteration_index:], start = iteration_index):    \n",
    "        if j == chapter_name:            \n",
    "            chapter_start_line.append(idx + 1)\n",
    "            if idx != 0: \n",
    "                chapter_end_line.append(idx - 1)\n",
    "            iteration_index = idx + 1\n",
    "            break\n",
    "\n",
    "chapter_end_line.append(len(lines) - 1)"
   ]
  },
  {
   "cell_type": "code",
   "execution_count": 8,
   "metadata": {},
   "outputs": [
    {
     "name": "stdout",
     "output_type": "stream",
     "text": [
      "[1, 546, 959, 1437, 1895, 2742, 3533, 4097, 4468, 5101, 5642, 6067, 6742, 7149, 7584, 8214, 9036, 9724, 10049, 10424, 10989, 11709, 12391, 12967, 13542, 14119, 14796, 15454, 16203, 16885, 17572, 18085, 18664, 19379, 20052, 20541, 20997, 21474, 22029, 22676, 23532, 24384, 24948, 25614, 26299, 27200, 27923, 28545, 29087, 29798, 30515, 31087, 31636, 31916, 32556, 32809, 33785, 34411, 34904, 35236, 35618, 36006, 36471, 36774, 37435, 38172, 39082, 39491, 39911, 40623, 41139, 41751, 42409, 43189, 43714, 44553, 45326, 46191, 46891, 47456, 48477, 49270, 49965, 50949, 51814, 52762, 53319, 54123, 55104, 55349, 55847, 56197, 56915, 57689, 58314, 59036, 59840, 60501, 61237, 62438, 62792, 63373, 63927, 64953, 65709, 66488, 67586, 68680, 69699, 70596, 71348, 72218, 73105, 73952, 74728, 75652, 76660, 77592, 78619, 79622, 80690, 81654, 82672, 83634, 84668, 85650, 86444, 86941, 87597, 88573, 89044, 90016, 90967, 91586, 92194, 92793, 93568, 94355, 95112, 95955, 96492, 97266, 98027, 98666, 99360, 100044, 100857, 101612, 102397, 103202, 104048, 104844, 105667, 106385, 107129, 107836, 108562, 109225, 110025, 110599, 111047, 111753, 112409, 112806, 113293, 113722, 114388, 115150, 115969, 116820, 117610, 118120, 118945, 119656, 120442, 121184, 121704, 122598, 123241, 123916, 124342, 125166, 125739, 126349, 127084, 128108, 128946, 129493, 130343, 130660, 131211, 131784, 132425, 133441, 134121, 135184, 135657, 136283, 137169]\n"
     ]
    }
   ],
   "source": [
    "print(chapter_start_line)"
   ]
  },
  {
   "cell_type": "code",
   "execution_count": 9,
   "metadata": {},
   "outputs": [
    {
     "name": "stdout",
     "output_type": "stream",
     "text": [
      "[544, 957, 1435, 1893, 2740, 3531, 4095, 4466, 5099, 5640, 6065, 6740, 7147, 7582, 8212, 9034, 9722, 10047, 10422, 10987, 11707, 12389, 12965, 13540, 14117, 14794, 15452, 16201, 16883, 17570, 18083, 18662, 19377, 20050, 20539, 20995, 21472, 22027, 22674, 23530, 24382, 24946, 25612, 26297, 27198, 27921, 28543, 29085, 29796, 30513, 31085, 31634, 31914, 32554, 32807, 33783, 34409, 34902, 35234, 35616, 36004, 36469, 36772, 37433, 38170, 39080, 39489, 39909, 40621, 41137, 41749, 42407, 43187, 43712, 44551, 45324, 46189, 46889, 47454, 48475, 49268, 49963, 50947, 51812, 52760, 53317, 54121, 55102, 55347, 55845, 56195, 56913, 57687, 58312, 59034, 59838, 60499, 61235, 62436, 62790, 63371, 63925, 64951, 65707, 66486, 67584, 68678, 69697, 70594, 71346, 72216, 73103, 73950, 74726, 75650, 76658, 77590, 78617, 79620, 80688, 81652, 82670, 83632, 84666, 85648, 86442, 86939, 87595, 88571, 89042, 90014, 90965, 91584, 92192, 92791, 93566, 94353, 95110, 95953, 96490, 97264, 98025, 98664, 99358, 100042, 100855, 101610, 102395, 103200, 104046, 104842, 105665, 106383, 107127, 107834, 108560, 109223, 110023, 110597, 111045, 111751, 112407, 112804, 113291, 113720, 114386, 115148, 115967, 116818, 117608, 118118, 118943, 119654, 120440, 121182, 121702, 122596, 123239, 123914, 124340, 125164, 125737, 126347, 127082, 128106, 128944, 129491, 130341, 130658, 131209, 131782, 132423, 133439, 134119, 135182, 135655, 136281, 137167, 137387]\n"
     ]
    }
   ],
   "source": [
    "print(chapter_end_line)"
   ]
  },
  {
   "cell_type": "markdown",
   "metadata": {},
   "source": [
    "## remove the new line special character"
   ]
  },
  {
   "cell_type": "code",
   "execution_count": 10,
   "metadata": {},
   "outputs": [],
   "source": [
    "for idx, line in enumerate(lines):\n",
    "    if '-\\n' in line:\n",
    "        lines[idx] = lines[idx].replace('-\\n', '-')\n",
    "    else:\n",
    "        lines[idx] = lines[idx].replace('\\n', ' ')"
   ]
  },
  {
   "cell_type": "markdown",
   "metadata": {},
   "source": [
    "## write out each chapter as a single txt file"
   ]
  },
  {
   "cell_type": "code",
   "execution_count": 11,
   "metadata": {},
   "outputs": [],
   "source": [
    "for idx, i in enumerate(chapters):\n",
    "    chapter_start_idx = chapter_start_line[idx]\n",
    "    chapter_end_idx = chapter_end_line[idx]\n",
    "    chapter_name = i[:-1]\n",
    "    with open('harry_potter_chapters/' + chapter_name + '.txt', 'w', encoding=\"utf8\") as f:\n",
    "        for line in lines[chapter_start_idx : chapter_end_idx + 1]:\n",
    "            f.write(line)"
   ]
  },
  {
   "cell_type": "code",
   "execution_count": null,
   "metadata": {},
   "outputs": [],
   "source": []
  }
 ],
 "metadata": {
  "kernelspec": {
   "display_name": "Python 3",
   "language": "python",
   "name": "python3"
  },
  "language_info": {
   "codemirror_mode": {
    "name": "ipython",
    "version": 3
   },
   "file_extension": ".py",
   "mimetype": "text/x-python",
   "name": "python",
   "nbconvert_exporter": "python",
   "pygments_lexer": "ipython3",
   "version": "3.7.7"
  }
 },
 "nbformat": 4,
 "nbformat_minor": 4
}
