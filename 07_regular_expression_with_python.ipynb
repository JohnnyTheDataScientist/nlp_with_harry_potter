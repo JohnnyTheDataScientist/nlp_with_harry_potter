{
 "cells": [
  {
   "cell_type": "markdown",
   "metadata": {},
   "source": [
    "### raw string"
   ]
  },
  {
   "cell_type": "code",
   "execution_count": 1,
   "metadata": {},
   "outputs": [],
   "source": [
    "string1 = 'Hi\\nHi\\nHello'"
   ]
  },
  {
   "cell_type": "code",
   "execution_count": 2,
   "metadata": {},
   "outputs": [
    {
     "name": "stdout",
     "output_type": "stream",
     "text": [
      "Hi\n",
      "Hi\n",
      "Hello\n"
     ]
    }
   ],
   "source": [
    "print(string1)"
   ]
  },
  {
   "cell_type": "code",
   "execution_count": 3,
   "metadata": {},
   "outputs": [],
   "source": [
    "raw_string1 = r'Hi\\nHi\\nHello'"
   ]
  },
  {
   "cell_type": "code",
   "execution_count": 4,
   "metadata": {},
   "outputs": [
    {
     "name": "stdout",
     "output_type": "stream",
     "text": [
      "Hi\\nHi\\nHello\n"
     ]
    }
   ],
   "source": [
    "print(raw_string1)"
   ]
  },
  {
   "cell_type": "markdown",
   "metadata": {},
   "source": [
    "### text to be searched"
   ]
  },
  {
   "cell_type": "code",
   "execution_count": 6,
   "metadata": {},
   "outputs": [],
   "source": [
    "text = '''Mr. and Mrs. Dursley, of number four, Privet Drive, were proud to say that they were perfectly normal, thank you very much.\n",
    "\n",
    "They were the last people you’d expect to be involved in anything strange or mysterious, because they just didn’t hold with such nonsense.\n",
    "\n",
    "example phone numbers:\n",
    "123-123-7890\n",
    "224 224 7890\n",
    "(123)-456-7890\n",
    "1234567890\n",
    "\n",
    "examples for quantifiers:\n",
    "a \n",
    "ab\n",
    "abbbbbb\n",
    "abc\n",
    "abcbcbcbcbcbc\n",
    "\n",
    "examples for or character: Monday, Tuesday'''"
   ]
  },
  {
   "cell_type": "code",
   "execution_count": 7,
   "metadata": {},
   "outputs": [
    {
     "name": "stdout",
     "output_type": "stream",
     "text": [
      "Mr. and Mrs. Dursley, of number four, Privet Drive, were proud to say that they were perfectly normal, thank you very much.\n",
      "\n",
      "They were the last people you’d expect to be involved in anything strange or mysterious, because they just didn’t hold with such nonsense.\n",
      "\n",
      "example phone numbers:\n",
      "123-123-7890\n",
      "224 224 7890\n",
      "(123)-456-7890\n",
      "1234567890\n",
      "\n",
      "examples for quantifiers:\n",
      "a \n",
      "ab\n",
      "abbbbbb\n",
      "abc\n",
      "abcbcbcbcbcbc\n",
      "\n",
      "examples for or character: Monday, Tuesday\n"
     ]
    }
   ],
   "source": [
    "print(text)"
   ]
  },
  {
   "cell_type": "markdown",
   "metadata": {},
   "source": [
    "### compile a pattern"
   ]
  },
  {
   "cell_type": "code",
   "execution_count": 8,
   "metadata": {},
   "outputs": [],
   "source": [
    "import re\n",
    "pattern_string = r'\\(?\\d{3}\\)?[- ]?\\d{3}[- ]?\\d{4}'\n",
    "pattern_object = re.compile(pattern_string)"
   ]
  },
  {
   "cell_type": "markdown",
   "metadata": {},
   "source": [
    "### search through the target text using the compiled pattern"
   ]
  },
  {
   "cell_type": "code",
   "execution_count": 9,
   "metadata": {},
   "outputs": [],
   "source": [
    "## search function only returns the first match as a match object\n",
    "result = pattern_object.search(text)"
   ]
  },
  {
   "cell_type": "code",
   "execution_count": 11,
   "metadata": {},
   "outputs": [
    {
     "data": {
      "text/plain": [
       "<re.Match object; span=(288, 300), match='123-123-7890'>"
      ]
     },
     "execution_count": 11,
     "metadata": {},
     "output_type": "execute_result"
    }
   ],
   "source": [
    "result"
   ]
  },
  {
   "cell_type": "code",
   "execution_count": 12,
   "metadata": {},
   "outputs": [
    {
     "data": {
      "text/plain": [
       "(288, 300)"
      ]
     },
     "execution_count": 12,
     "metadata": {},
     "output_type": "execute_result"
    }
   ],
   "source": [
    "result.span()"
   ]
  },
  {
   "cell_type": "code",
   "execution_count": 11,
   "metadata": {},
   "outputs": [
    {
     "data": {
      "text/plain": [
       "'123-123-7890'"
      ]
     },
     "execution_count": 11,
     "metadata": {},
     "output_type": "execute_result"
    }
   ],
   "source": [
    "result.group(0)"
   ]
  },
  {
   "cell_type": "code",
   "execution_count": 13,
   "metadata": {},
   "outputs": [],
   "source": [
    "## findall function returns all matches in a list\n",
    "result = pattern_object.findall(text)"
   ]
  },
  {
   "cell_type": "code",
   "execution_count": 14,
   "metadata": {},
   "outputs": [
    {
     "data": {
      "text/plain": [
       "['123-123-7890', '224 224 7890', '(123)-456-7890', '1234567890']"
      ]
     },
     "execution_count": 14,
     "metadata": {},
     "output_type": "execute_result"
    }
   ],
   "source": [
    "result"
   ]
  },
  {
   "cell_type": "code",
   "execution_count": 15,
   "metadata": {},
   "outputs": [],
   "source": [
    "## finditer function returns an iterator yielding match objects\n",
    "result = pattern_object.finditer(text)"
   ]
  },
  {
   "cell_type": "code",
   "execution_count": 16,
   "metadata": {},
   "outputs": [
    {
     "data": {
      "text/plain": [
       "<callable_iterator at 0x2f0abe18e48>"
      ]
     },
     "execution_count": 16,
     "metadata": {},
     "output_type": "execute_result"
    }
   ],
   "source": [
    "result"
   ]
  },
  {
   "cell_type": "code",
   "execution_count": 17,
   "metadata": {},
   "outputs": [
    {
     "data": {
      "text/plain": [
       "<re.Match object; span=(288, 300), match='123-123-7890'>"
      ]
     },
     "execution_count": 17,
     "metadata": {},
     "output_type": "execute_result"
    }
   ],
   "source": [
    "next(result)"
   ]
  },
  {
   "cell_type": "code",
   "execution_count": 18,
   "metadata": {},
   "outputs": [
    {
     "data": {
      "text/plain": [
       "<re.Match object; span=(301, 313), match='224 224 7890'>"
      ]
     },
     "execution_count": 18,
     "metadata": {},
     "output_type": "execute_result"
    }
   ],
   "source": [
    "next(result)"
   ]
  },
  {
   "cell_type": "code",
   "execution_count": 19,
   "metadata": {},
   "outputs": [
    {
     "data": {
      "text/plain": [
       "<re.Match object; span=(314, 328), match='(123)-456-7890'>"
      ]
     },
     "execution_count": 19,
     "metadata": {},
     "output_type": "execute_result"
    }
   ],
   "source": [
    "next(result)"
   ]
  },
  {
   "cell_type": "code",
   "execution_count": 20,
   "metadata": {},
   "outputs": [
    {
     "data": {
      "text/plain": [
       "<re.Match object; span=(329, 339), match='1234567890'>"
      ]
     },
     "execution_count": 20,
     "metadata": {},
     "output_type": "execute_result"
    }
   ],
   "source": [
    "next(result)"
   ]
  },
  {
   "cell_type": "code",
   "execution_count": 21,
   "metadata": {},
   "outputs": [
    {
     "ename": "StopIteration",
     "evalue": "",
     "output_type": "error",
     "traceback": [
      "\u001b[1;31m---------------------------------------------------------------------------\u001b[0m",
      "\u001b[1;31mStopIteration\u001b[0m                             Traceback (most recent call last)",
      "\u001b[1;32m<ipython-input-21-709396a5599b>\u001b[0m in \u001b[0;36m<module>\u001b[1;34m\u001b[0m\n\u001b[1;32m----> 1\u001b[1;33m \u001b[0mnext\u001b[0m\u001b[1;33m(\u001b[0m\u001b[0mresult\u001b[0m\u001b[1;33m)\u001b[0m\u001b[1;33m\u001b[0m\u001b[1;33m\u001b[0m\u001b[0m\n\u001b[0m",
      "\u001b[1;31mStopIteration\u001b[0m: "
     ]
    }
   ],
   "source": [
    "next(result)"
   ]
  },
  {
   "cell_type": "code",
   "execution_count": 22,
   "metadata": {},
   "outputs": [
    {
     "name": "stdout",
     "output_type": "stream",
     "text": [
      "<re.Match object; span=(288, 300), match='123-123-7890'>\n",
      "<re.Match object; span=(301, 313), match='224 224 7890'>\n",
      "<re.Match object; span=(314, 328), match='(123)-456-7890'>\n",
      "<re.Match object; span=(329, 339), match='1234567890'>\n"
     ]
    }
   ],
   "source": [
    "result = pattern_object.finditer(text)\n",
    "for i in result:\n",
    "    print(i)"
   ]
  },
  {
   "cell_type": "code",
   "execution_count": 23,
   "metadata": {},
   "outputs": [],
   "source": [
    "for i in result:\n",
    "    print(i)"
   ]
  },
  {
   "cell_type": "code",
   "execution_count": 24,
   "metadata": {},
   "outputs": [
    {
     "name": "stdout",
     "output_type": "stream",
     "text": [
      "<re.Match object; span=(288, 300), match='123-123-7890'>\n",
      "(288, 300)\n",
      "123-123-7890\n",
      "<re.Match object; span=(301, 313), match='224 224 7890'>\n",
      "(301, 313)\n",
      "224 224 7890\n",
      "<re.Match object; span=(314, 328), match='(123)-456-7890'>\n",
      "(314, 328)\n",
      "(123)-456-7890\n",
      "<re.Match object; span=(329, 339), match='1234567890'>\n",
      "(329, 339)\n",
      "1234567890\n"
     ]
    }
   ],
   "source": [
    "result = pattern_object.finditer(text)\n",
    "for i in result:\n",
    "    print(i)\n",
    "    print(i.span())\n",
    "    print(i.group(0))"
   ]
  },
  {
   "cell_type": "code",
   "execution_count": 25,
   "metadata": {},
   "outputs": [],
   "source": [
    "### add groups\n",
    "pattern_string = r'\\(?(\\d{3})\\)?[- ]?(\\d{3})[- ]?(\\d{4})'\n",
    "pattern_object = re.compile(pattern_string)"
   ]
  },
  {
   "cell_type": "code",
   "execution_count": 26,
   "metadata": {},
   "outputs": [
    {
     "name": "stdout",
     "output_type": "stream",
     "text": [
      "<re.Match object; span=(288, 300), match='123-123-7890'>\n",
      "(288, 300)\n",
      "123-123-7890\n",
      "123\n",
      "123\n",
      "7890\n",
      "<re.Match object; span=(301, 313), match='224 224 7890'>\n",
      "(301, 313)\n",
      "224 224 7890\n",
      "224\n",
      "224\n",
      "7890\n",
      "<re.Match object; span=(314, 328), match='(123)-456-7890'>\n",
      "(314, 328)\n",
      "(123)-456-7890\n",
      "123\n",
      "456\n",
      "7890\n",
      "<re.Match object; span=(329, 339), match='1234567890'>\n",
      "(329, 339)\n",
      "1234567890\n",
      "123\n",
      "456\n",
      "7890\n"
     ]
    }
   ],
   "source": [
    "result = pattern_object.finditer(text)\n",
    "for i in result:\n",
    "    print(i)\n",
    "    print(i.span())\n",
    "    print(i.group(0))\n",
    "    print(i.group(1))\n",
    "    print(i.group(2))\n",
    "    print(i.group(3))"
   ]
  },
  {
   "cell_type": "markdown",
   "metadata": {},
   "source": [
    "## flags"
   ]
  },
  {
   "cell_type": "code",
   "execution_count": 29,
   "metadata": {},
   "outputs": [
    {
     "name": "stdout",
     "output_type": "stream",
     "text": [
      "Mr. and Mrs. Dursley, of number four, Privet Drive, were proud to say that they were perfectly normal, thank you very much.\n",
      "\n",
      "They were the last people you’d expect to be involved in anything strange or mysterious, because they just didn’t hold with such nonsense.\n",
      "\n",
      "example phone numbers:\n",
      "123-123-7890\n",
      "224 224 7890\n",
      "(123)-456-7890\n",
      "1234567890\n",
      "\n",
      "examples for quantifiers:\n",
      "a \n",
      "ab\n",
      "abbbbbb\n",
      "abc\n",
      "abcbcbcbcbcbc\n",
      "\n",
      "examples for or character: Monday, Tuesday\n",
      "<re.Match object; span=(75, 79), match='they'>\n",
      "(75, 79)\n",
      "they\n",
      "<re.Match object; span=(125, 129), match='They'>\n",
      "(125, 129)\n",
      "They\n",
      "<re.Match object; span=(222, 226), match='they'>\n",
      "(222, 226)\n",
      "they\n"
     ]
    }
   ],
   "source": [
    "## ignorecase long version re.IGNORECASE\n",
    "print(text)\n",
    "pattern_string = r'they'\n",
    "# pattern_object = re.compile(pattern_string)\n",
    "# pattern_object = re.compile(pattern_string, flags = re.IGNORECASE)\n",
    "pattern_object = re.compile(pattern_string, flags = re.I)\n",
    "result = pattern_object.finditer(text)\n",
    "for i in result:\n",
    "    print(i)\n",
    "    print(i.span())\n",
    "    print(i.group(0))"
   ]
  },
  {
   "cell_type": "code",
   "execution_count": 32,
   "metadata": {},
   "outputs": [
    {
     "name": "stdout",
     "output_type": "stream",
     "text": [
      "Mr. and Mrs. Dursley, of number four, Privet Drive, were proud to say that they were perfectly normal, thank you very much.\n",
      "\n",
      "They were the last people you’d expect to be involved in anything strange or mysterious, because they just didn’t hold with such nonsense.\n",
      "\n",
      "example phone numbers:\n",
      "123-123-7890\n",
      "224 224 7890\n",
      "(123)-456-7890\n",
      "1234567890\n",
      "\n",
      "examples for quantifiers:\n",
      "a \n",
      "ab\n",
      "abbbbbb\n",
      "abc\n",
      "abcbcbcbcbcbc\n",
      "\n",
      "examples for or character: Monday, Tuesday\n",
      "<re.Match object; span=(0, 1), match='M'>\n",
      "(0, 1)\n",
      "M\n",
      "<re.Match object; span=(125, 126), match='T'>\n",
      "(125, 126)\n",
      "T\n",
      "<re.Match object; span=(265, 266), match='e'>\n",
      "(265, 266)\n",
      "e\n",
      "<re.Match object; span=(288, 289), match='1'>\n",
      "(288, 289)\n",
      "1\n",
      "<re.Match object; span=(301, 302), match='2'>\n",
      "(301, 302)\n",
      "2\n",
      "<re.Match object; span=(314, 315), match='('>\n",
      "(314, 315)\n",
      "(\n",
      "<re.Match object; span=(329, 330), match='1'>\n",
      "(329, 330)\n",
      "1\n",
      "<re.Match object; span=(341, 342), match='e'>\n",
      "(341, 342)\n",
      "e\n",
      "<re.Match object; span=(367, 368), match='a'>\n",
      "(367, 368)\n",
      "a\n",
      "<re.Match object; span=(370, 371), match='a'>\n",
      "(370, 371)\n",
      "a\n",
      "<re.Match object; span=(373, 374), match='a'>\n",
      "(373, 374)\n",
      "a\n",
      "<re.Match object; span=(381, 382), match='a'>\n",
      "(381, 382)\n",
      "a\n",
      "<re.Match object; span=(385, 386), match='a'>\n",
      "(385, 386)\n",
      "a\n",
      "<re.Match object; span=(400, 401), match='e'>\n",
      "(400, 401)\n",
      "e\n"
     ]
    }
   ],
   "source": [
    "## re.MULTILINE or re.M\n",
    "print(text)\n",
    "pattern_string = r'^.'\n",
    "# pattern_object = re.compile(pattern_string)\n",
    "# pattern_object = re.compile(pattern_string, flags = re.MULTILINE)\n",
    "pattern_object = re.compile(pattern_string, flags = re.M)\n",
    "result = pattern_object.finditer(text)\n",
    "for i in result:\n",
    "    print(i)\n",
    "    print(i.span())\n",
    "    print(i.group(0))"
   ]
  },
  {
   "cell_type": "code",
   "execution_count": 37,
   "metadata": {},
   "outputs": [
    {
     "name": "stdout",
     "output_type": "stream",
     "text": [
      "Mr. and Mrs. Dursley, of number four, Privet Drive, were proud to say that they were perfectly normal, thank you very much.\n",
      "\n",
      "They were the last people you’d expect to be involved in anything strange or mysterious, because they just didn’t hold with such nonsense.\n",
      "\n",
      "example phone numbers:\n",
      "123-123-7890\n",
      "224 224 7890\n",
      "(123)-456-7890\n",
      "1234567890\n",
      "\n",
      "examples for quantifiers:\n",
      "a \n",
      "ab\n",
      "abbbbbb\n",
      "abc\n",
      "abcbcbcbcbcbc\n",
      "\n",
      "examples for or character: Monday, Tuesday\n",
      "<re.Match object; span=(122, 123), match='.'>\n",
      "(122, 123)\n",
      ".\n",
      "<re.Match object; span=(123, 124), match='\\n'>\n",
      "(123, 124)\n",
      "\n",
      "\n",
      "<re.Match object; span=(262, 263), match='.'>\n",
      "(262, 263)\n",
      ".\n",
      "<re.Match object; span=(263, 264), match='\\n'>\n",
      "(263, 264)\n",
      "\n",
      "\n",
      "<re.Match object; span=(286, 287), match=':'>\n",
      "(286, 287)\n",
      ":\n",
      "<re.Match object; span=(299, 300), match='0'>\n",
      "(299, 300)\n",
      "0\n",
      "<re.Match object; span=(312, 313), match='0'>\n",
      "(312, 313)\n",
      "0\n",
      "<re.Match object; span=(327, 328), match='0'>\n",
      "(327, 328)\n",
      "0\n",
      "<re.Match object; span=(338, 339), match='0'>\n",
      "(338, 339)\n",
      "0\n",
      "<re.Match object; span=(339, 340), match='\\n'>\n",
      "(339, 340)\n",
      "\n",
      "\n",
      "<re.Match object; span=(365, 366), match=':'>\n",
      "(365, 366)\n",
      ":\n",
      "<re.Match object; span=(368, 369), match=' '>\n",
      "(368, 369)\n",
      " \n",
      "<re.Match object; span=(371, 372), match='b'>\n",
      "(371, 372)\n",
      "b\n",
      "<re.Match object; span=(379, 380), match='b'>\n",
      "(379, 380)\n",
      "b\n",
      "<re.Match object; span=(383, 384), match='c'>\n",
      "(383, 384)\n",
      "c\n",
      "<re.Match object; span=(397, 398), match='c'>\n",
      "(397, 398)\n",
      "c\n",
      "<re.Match object; span=(398, 399), match='\\n'>\n",
      "(398, 399)\n",
      "\n",
      "\n",
      "<re.Match object; span=(441, 442), match='y'>\n",
      "(441, 442)\n",
      "y\n"
     ]
    }
   ],
   "source": [
    "## re.DOTALL or re.S\n",
    "print(text)\n",
    "pattern_string = r'.$'\n",
    "# pattern_object = re.compile(pattern_string)\n",
    "# pattern_object = re.compile(pattern_string, flags = re.MULTILINE)\n",
    "# pattern_object = re.compile(pattern_string, flags = re.MULTILINE | re.DOTALL)\n",
    "pattern_object = re.compile(pattern_string, flags = re.MULTILINE | re.S)\n",
    "result = pattern_object.finditer(text)\n",
    "for i in result:\n",
    "    print(i)\n",
    "    print(i.span())\n",
    "    print(i.group(0))"
   ]
  },
  {
   "cell_type": "markdown",
   "metadata": {},
   "source": [
    "## replace"
   ]
  },
  {
   "cell_type": "code",
   "execution_count": 38,
   "metadata": {},
   "outputs": [
    {
     "name": "stdout",
     "output_type": "stream",
     "text": [
      "Mr. and Mrs. Dursley, of number four, Privet Drive, were proud to say that they were perfectly normal, thank you very much.\n",
      "\n",
      "They were the last people you’d expect to be involved in anything strange or mysterious, because they just didn’t hold with such nonsense.\n",
      "\n",
      "example phone numbers:\n",
      "000\n",
      "000\n",
      "000\n",
      "000\n",
      "\n",
      "examples for quantifiers:\n",
      "a \n",
      "ab\n",
      "abbbbbb\n",
      "abc\n",
      "abcbcbcbcbcbc\n",
      "\n",
      "examples for or character: Monday, Tuesday\n"
     ]
    }
   ],
   "source": [
    "## sub function\n",
    "pattern_string = r'\\(?(\\d{3})\\)?[- ]?(\\d{3})[- ]?(\\d{4})'\n",
    "pattern_object = re.compile(pattern_string)\n",
    "print(pattern_object.sub('000', text))"
   ]
  },
  {
   "cell_type": "code",
   "execution_count": 39,
   "metadata": {},
   "outputs": [
    {
     "name": "stdout",
     "output_type": "stream",
     "text": [
      "Mr. and Mrs. Dursley, of number four, Privet Drive, were proud to say that they were perfectly normal, thank you very much.\n",
      "\n",
      "They were the last people you’d expect to be involved in anything strange or mysterious, because they just didn’t hold with such nonsense.\n",
      "\n",
      "example phone numbers:\n",
      "123-123-7890\n",
      "224-224-7890\n",
      "123-456-7890\n",
      "123-456-7890\n",
      "\n",
      "examples for quantifiers:\n",
      "a \n",
      "ab\n",
      "abbbbbb\n",
      "abc\n",
      "abcbcbcbcbcbc\n",
      "\n",
      "examples for or character: Monday, Tuesday\n"
     ]
    }
   ],
   "source": [
    "pattern_string = r'\\(?(\\d{3})\\)?[- ]?(\\d{3})[- ]?(\\d{4})'\n",
    "pattern_object = re.compile(pattern_string)\n",
    "print(pattern_object.sub(r'\\1-\\2-\\3', text))"
   ]
  },
  {
   "cell_type": "code",
   "execution_count": 52,
   "metadata": {},
   "outputs": [
    {
     "name": "stdout",
     "output_type": "stream",
     "text": [
      "Mr. and Mrs. Dursley, of number four, Privet Drive, were proud to say that they were perfectly normal, thank you very much.\n",
      "\n",
      "They were the last people you’d expect to be involved in anything strange or mysterious, because they just didn’t hold with such nonsense.\n",
      "\n",
      "example phone numbers:\n",
      "123-123-7890\n",
      "224 224 7890\n",
      "(123)-456-7890\n",
      "1234567890\n",
      "\n",
      "examples for quantifiers:\n",
      "a \n",
      "ab\n",
      "abbbbbb\n",
      "abc\n",
      "abcbcbcbcbcbc\n",
      "\n",
      "examples for or character: Monday, Tuesday\n"
     ]
    }
   ],
   "source": [
    "print(text)"
   ]
  },
  {
   "cell_type": "markdown",
   "metadata": {},
   "source": [
    "## split"
   ]
  },
  {
   "cell_type": "code",
   "execution_count": 40,
   "metadata": {},
   "outputs": [
    {
     "data": {
      "text/plain": [
       "['Mr.',\n",
       " 'and',\n",
       " 'Mrs.',\n",
       " 'Dursley,',\n",
       " 'of',\n",
       " 'number',\n",
       " 'four,',\n",
       " 'Privet',\n",
       " 'Drive,',\n",
       " 'were',\n",
       " 'proud',\n",
       " 'to',\n",
       " 'say',\n",
       " 'that',\n",
       " 'they',\n",
       " 'were',\n",
       " 'perfectly',\n",
       " 'normal,',\n",
       " 'thank',\n",
       " 'you',\n",
       " 'very',\n",
       " 'much.\\n\\nThey',\n",
       " 'were',\n",
       " 'the',\n",
       " 'last',\n",
       " 'people',\n",
       " 'you’d',\n",
       " 'expect',\n",
       " 'to',\n",
       " 'be',\n",
       " 'involved',\n",
       " 'in',\n",
       " 'anything',\n",
       " 'strange',\n",
       " 'or',\n",
       " 'mysterious,',\n",
       " 'because',\n",
       " 'they',\n",
       " 'just',\n",
       " 'didn’t',\n",
       " 'hold',\n",
       " 'with',\n",
       " 'such',\n",
       " 'nonsense.\\n\\nexample',\n",
       " 'phone',\n",
       " 'numbers:\\n123-123-7890\\n224',\n",
       " '224',\n",
       " '7890\\n(123)-456-7890\\n1234567890\\n\\nexamples',\n",
       " 'for',\n",
       " 'quantifiers:\\na',\n",
       " '\\nab\\nabbbbbb\\nabc\\nabcbcbcbcbcbc\\n\\nexamples',\n",
       " 'for',\n",
       " 'or',\n",
       " 'character:',\n",
       " 'Monday,',\n",
       " 'Tuesday']"
      ]
     },
     "execution_count": 40,
     "metadata": {},
     "output_type": "execute_result"
    }
   ],
   "source": [
    "pattern_string = r' '\n",
    "pattern_object = re.compile(pattern_string)\n",
    "pattern_object.split(text)"
   ]
  },
  {
   "cell_type": "code",
   "execution_count": 56,
   "metadata": {
    "scrolled": true
   },
   "outputs": [
    {
     "data": {
      "text/plain": [
       "['Mr. and Mrs. Dursley, of numb',\n",
       " ' four, Privet Drive, w',\n",
       " 'e proud to say that they w',\n",
       " 'e p',\n",
       " 'fectly normal, thank you v',\n",
       " 'y much.\\n\\nThey w',\n",
       " 'e the last people you’d expect to be involved in anything strange or myst',\n",
       " 'ious, because they just didn’t hold with such nonsense.\\n\\nexample phone numb',\n",
       " 's:\\n123-123-7890\\n224 224 7890\\n(123)-456-7890\\n1234567890\\n\\nexamples for quantifi',\n",
       " 's:\\na \\nab\\nabbbbbb\\nabc\\nabcbcbcbcbcbc\\n\\nexamples for or charact',\n",
       " ': Monday, Tuesday']"
      ]
     },
     "execution_count": 56,
     "metadata": {},
     "output_type": "execute_result"
    }
   ],
   "source": [
    "pattern_string = r'er'\n",
    "pattern_object = re.compile(pattern_string)\n",
    "pattern_object.split(text)"
   ]
  },
  {
   "cell_type": "markdown",
   "metadata": {},
   "source": [
    "### python regular expression web page\n",
    "https://docs.python.org/3/library/re.html"
   ]
  },
  {
   "cell_type": "code",
   "execution_count": null,
   "metadata": {},
   "outputs": [],
   "source": []
  }
 ],
 "metadata": {
  "kernelspec": {
   "display_name": "Python 3",
   "language": "python",
   "name": "python3"
  },
  "language_info": {
   "codemirror_mode": {
    "name": "ipython",
    "version": 3
   },
   "file_extension": ".py",
   "mimetype": "text/x-python",
   "name": "python",
   "nbconvert_exporter": "python",
   "pygments_lexer": "ipython3",
   "version": "3.7.7"
  }
 },
 "nbformat": 4,
 "nbformat_minor": 4
}
